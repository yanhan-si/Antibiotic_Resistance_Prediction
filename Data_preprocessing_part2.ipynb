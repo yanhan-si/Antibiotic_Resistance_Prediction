{
 "cells": [
  {
   "cell_type": "markdown",
   "metadata": {},
   "source": [
    "There are two main data folders. \n",
    "\n",
    "- ncbi-genomes-2020-11-16:335\n",
    "\n",
    "- 19fna:20"
   ]
  },
  {
   "cell_type": "code",
   "execution_count": 1,
   "metadata": {},
   "outputs": [],
   "source": [
    "import os"
   ]
  },
  {
   "cell_type": "code",
   "execution_count": 121,
   "metadata": {},
   "outputs": [
    {
     "name": "stdout",
     "output_type": "stream",
     "text": [
      "/Users/yanhans/Documents/GitHub/Antibiotic_Resistance_Prediction\r\n"
     ]
    }
   ],
   "source": [
    "! pwd"
   ]
  },
  {
   "cell_type": "code",
   "execution_count": 122,
   "metadata": {},
   "outputs": [],
   "source": [
    "def get_all_file_name(rpath_raw):\n",
    "    \"\"\"\n",
    "    This function return a list of file name in the given path\n",
    "    Input:\n",
    "        rpath_raw : a path relative to current dir /Antibiotic_Resistance_Prediction \n",
    "                e.x. \"./data/part2/19fna\"\n",
    "    Output:\n",
    "        files: a string list\n",
    "    \"\"\"\n",
    "\n",
    "    # list all the files in rpath_raw\n",
    "    files = os.listdir(rpath_raw)\n",
    "    return files"
   ]
  },
  {
   "cell_type": "code",
   "execution_count": 126,
   "metadata": {},
   "outputs": [
    {
     "name": "stdout",
     "output_type": "stream",
     "text": [
      "['CMG27-3.fasta', 'FS46-2.fasta', 'FS55-1.fasta', 'MM114-2.fasta', '.DS_Store', '2019XSD9.fasta', '2019XSD11.fasta', 'CMG11-2.fasta', 'MMS32-1.fasta', '2019XSD8.fasta', '2019XSD10.fasta', 'FS35-1.fasta', '2019XSD6.fasta', 'MM112-2.fasta', 'MM111-1.fasta', '2019XSC8.fasta', 'MMS36-1-1.fasta', 'W1-1.fasta', 'FS38-2.fasta', '2019XSC9.fasta']\n"
     ]
    }
   ],
   "source": [
    "# rpath_raw is the relative path to rare file\n",
    "rpath_raw = \"./data/part2/19fna/\"\n",
    "part2 = get_all_file_name(rpath_raw)\n",
    "print(part2)"
   ]
  },
  {
   "cell_type": "code",
   "execution_count": 158,
   "metadata": {},
   "outputs": [],
   "source": [
    "part2.remove('.DS_Store') # Mac OS file"
   ]
  },
  {
   "cell_type": "code",
   "execution_count": 159,
   "metadata": {},
   "outputs": [
    {
     "data": {
      "text/plain": [
       "['CMG27-3.fasta',\n",
       " 'FS46-2.fasta',\n",
       " 'FS55-1.fasta',\n",
       " 'MM114-2.fasta',\n",
       " '2019XSD9.fasta',\n",
       " '2019XSD11.fasta',\n",
       " 'CMG11-2.fasta',\n",
       " 'MMS32-1.fasta',\n",
       " '2019XSD8.fasta',\n",
       " '2019XSD10.fasta',\n",
       " 'FS35-1.fasta',\n",
       " '2019XSD6.fasta',\n",
       " 'MM112-2.fasta',\n",
       " 'MM111-1.fasta',\n",
       " '2019XSC8.fasta',\n",
       " 'MMS36-1-1.fasta',\n",
       " 'W1-1.fasta',\n",
       " 'FS38-2.fasta',\n",
       " '2019XSC9.fasta']"
      ]
     },
     "execution_count": 159,
     "metadata": {},
     "output_type": "execute_result"
    }
   ],
   "source": [
    "part2"
   ]
  },
  {
   "cell_type": "code",
   "execution_count": 154,
   "metadata": {},
   "outputs": [],
   "source": [
    "def create_table(path):\n",
    "    \"\"\"\n",
    "    This function create the sequences record table\n",
    "    !!! Make sure that \">\" presents at the first of each sequence\n",
    "    !!! \">\" is the separator for each sequence record\n",
    "    !!! Make sure that the sequence name is separate from the sequence\n",
    "        content by \"\\n\"\n",
    "    !!! Examine using the print_header.sh\n",
    "    Input:\n",
    "        filename1 : a file name containing many sequences\n",
    "    Output:\n",
    "        sequences_table : a 2d python list [[seqname1, \"ATCG\"], ....]\n",
    "    \"\"\"\n",
    "    # read in file\n",
    "    my_file = open(path)\n",
    "    my_file_contents = my_file.read()\n",
    "    \n",
    "    # split by >\n",
    "    records = my_file_contents.split(\">\")\n",
    "    \n",
    "    # remove the first empty string\n",
    "    records.pop(0)\n",
    "    \n",
    "    sequences_table = []\n",
    "    \n",
    "    for record in records:\n",
    "        seqname, seq = record.split(\"\\n\", maxsplit=1)\n",
    "        \n",
    "        # remove \\n from the seq list\n",
    "        seq = seq.replace('\\n', '')\n",
    "        sequences_table.append(list((seqname, seq)))\n",
    "    \n",
    "    return sequences_table"
   ]
  },
  {
   "cell_type": "code",
   "execution_count": 131,
   "metadata": {},
   "outputs": [],
   "source": [
    "def length_validation_check(sequences_table):\n",
    "    \"\"\"\n",
    "    This function check whether the processed sequence length matches the original record\n",
    "    !!! Make sure length included in the name\n",
    "    Input:\n",
    "        sequences_table : output from create table function\n",
    "    \"\"\"\n",
    "    unvalid_case = 0\n",
    "    for record in sequences_table:\n",
    "        if len(record[1]) != int(record[0].split('_')[3]):\n",
    "            unvalid_case += 1\n",
    "            print(\"Invaild : \",record[0])\n",
    "    if unvalid_case == 0:\n",
    "        print(\"All records valid!\")\n",
    "    return"
   ]
  },
  {
   "cell_type": "code",
   "execution_count": 132,
   "metadata": {},
   "outputs": [
    {
     "name": "stdout",
     "output_type": "stream",
     "text": [
      "All records valid!\n"
     ]
    }
   ],
   "source": [
    "length_validation_check(sequences_table)"
   ]
  },
  {
   "cell_type": "code",
   "execution_count": 133,
   "metadata": {},
   "outputs": [],
   "source": [
    "def content_validation_check(sequences_table):\n",
    "    setA = set()\n",
    "    for record in sequences_table:\n",
    "        setA = setA | set(list(record[1]))\n",
    "    return setA"
   ]
  },
  {
   "cell_type": "code",
   "execution_count": 134,
   "metadata": {},
   "outputs": [
    {
     "data": {
      "text/plain": [
       "{'A', 'C', 'G', 'N', 'T'}"
      ]
     },
     "execution_count": 134,
     "metadata": {},
     "output_type": "execute_result"
    }
   ],
   "source": [
    "content_validation_check(sequences_table)"
   ]
  },
  {
   "cell_type": "code",
   "execution_count": 147,
   "metadata": {},
   "outputs": [],
   "source": [
    "def generate_filename(rpath_encode, filename1, filename2):\n",
    "    \"\"\"\n",
    "    Generate a csv file name in a given path\n",
    "    Input:\n",
    "        rpath_encode : './data/part2/encoded_data2/'\n",
    "        filename1 : \"xx.fasta\"\n",
    "        filename2 : \"NODE_1xx\"\n",
    "    Output:\n",
    "        Add underscore between filenames and .csv extension\n",
    "        name : \"../encoded_data/xx.fasta_NODE_1xx.csv\"\n",
    "    \"\"\"\n",
    "    name = rpath_encode + filename1 + '_' + filename2 + '.csv'\n",
    "    return name"
   ]
  },
  {
   "cell_type": "code",
   "execution_count": 148,
   "metadata": {},
   "outputs": [],
   "source": [
    "# rpath_encode is the relative path to the encoded data folder\n",
    "rpath_encode = './data/part2/encoded_data2/'"
   ]
  },
  {
   "cell_type": "code",
   "execution_count": 149,
   "metadata": {},
   "outputs": [],
   "source": [
    "def create_encoded_files(sequences_table, rpath_encode, filename1):\n",
    "    \"\"\"\n",
    "    This function saves all encoded matrix of sequences of the given file to a given rpath_encode\n",
    "    Input:\n",
    "        table: 2d python list [[filename2, sequence],...]\n",
    "        rpath_encode: on the disk\n",
    "        filename1: a file\n",
    "    \"\"\"\n",
    "    for record in sequences_table:\n",
    "        # generate a filename\n",
    "        name = generate_filename(rpath_encode, filename1, record[0])\n",
    "        # generate the encoded matrix\n",
    "        matrix = encoding_sequence(record[1])\n",
    "        # save the file to the given position\n",
    "        save_file(matrix,name)\n",
    "    return"
   ]
  },
  {
   "cell_type": "code",
   "execution_count": 135,
   "metadata": {},
   "outputs": [],
   "source": [
    "def encoding_sequence(sequence):\n",
    "    \"\"\"\n",
    "    This function return the one hot encoding matrix of the given sequence\n",
    "    Input:\n",
    "        sequence: A length L string containing \"A\", \"T\", \"C\", \"G\", possible \"N\"\n",
    "    Output:\n",
    "        encoding_matrix: A two dimensional list, (L, 4)\n",
    "    \"\"\"\n",
    "    \n",
    "    encoding_matrix = []\n",
    "    \n",
    "    # One hot encoding\n",
    "    A = [1,0,0,0]\n",
    "    T = [0,1,0,0]\n",
    "    C = [0,0,1,0]\n",
    "    G = [0,0,0,1]\n",
    "    N = [0,0,0,0]\n",
    "    \n",
    "    for nucleotide in sequence:\n",
    "        if nucleotide == 'A':\n",
    "            encoding_matrix.append(A)\n",
    "        elif nucleotide == 'T':\n",
    "            encoding_matrix.append(T)\n",
    "        elif nucleotide == 'C':\n",
    "            encoding_matrix.append(C)\n",
    "        elif nucleotide == 'G':\n",
    "            encoding_matrix.append(G)\n",
    "        else:\n",
    "            encoding_matrix.append(N)\n",
    "    return encoding_matrix"
   ]
  },
  {
   "cell_type": "code",
   "execution_count": 94,
   "metadata": {},
   "outputs": [],
   "source": [
    "def save_file(matrix, filename):\n",
    "    \"\"\"\n",
    "    This function saves the encoded object to a csv file on the disk\n",
    "    Input:\n",
    "        matrix: python 2D list from the encoding_sequence function\n",
    "        filename: \n",
    "                combine the original file name and sequence name\n",
    "                can be a relative path    \n",
    "    \"\"\"\n",
    "    df = pd.DataFrame(matrix, columns =['A', 'T', 'C', 'G']) \n",
    "    df.to_csv(filename,index = False)\n",
    "    return"
   ]
  },
  {
   "cell_type": "code",
   "execution_count": 160,
   "metadata": {},
   "outputs": [
    {
     "name": "stdout",
     "output_type": "stream",
     "text": [
      "All records valid!\n",
      "{'A', 'N', 'T', 'G', 'C'}\n",
      "All records valid!\n",
      "{'A', 'N', 'G', 'T', 'C'}\n",
      "All records valid!\n",
      "{'A', 'N', 'G', 'T', 'C'}\n",
      "All records valid!\n",
      "{'A', 'N', 'T', 'G', 'C'}\n",
      "All records valid!\n",
      "{'T', 'G', 'A', 'C'}\n",
      "All records valid!\n",
      "{'A', 'T', 'G', 'C'}\n",
      "All records valid!\n",
      "{'A', 'N', 'T', 'G', 'C'}\n",
      "All records valid!\n",
      "{'A', 'N', 'T', 'G', 'C'}\n",
      "All records valid!\n",
      "{'A', 'T', 'G', 'C'}\n",
      "All records valid!\n",
      "{'A', 'T', 'G', 'C'}\n",
      "All records valid!\n",
      "{'G', 'T', 'A', 'C', 'N'}\n",
      "All records valid!\n",
      "{'T', 'G', 'A', 'C'}\n",
      "All records valid!\n",
      "{'A', 'T', 'G', 'C'}\n",
      "All records valid!\n",
      "{'T', 'G', 'A', 'C', 'N'}\n",
      "All records valid!\n",
      "{'A', 'G', 'T', 'C'}\n",
      "All records valid!\n",
      "{'T', 'G', 'A', 'C', 'N'}\n",
      "All records valid!\n",
      "{'A', 'N', 'G', 'T', 'C'}\n",
      "All records valid!\n",
      "{'G', 'T', 'A', 'C', 'N'}\n",
      "All records valid!\n",
      "{'A', 'T', 'G', 'C'}\n"
     ]
    }
   ],
   "source": [
    "for filename1 in part2:\n",
    "    path = rpath_raw + filename1\n",
    "    sequences_table = create_table(path)\n",
    "    length_validation_check(sequences_table)\n",
    "    print(content_validation_check(sequences_table))\n",
    "    create_encoded_files(sequences_table, rpath_encode, filename1)"
   ]
  }
 ],
 "metadata": {
  "kernelspec": {
   "display_name": "Python 3",
   "language": "python",
   "name": "python3"
  },
  "language_info": {
   "codemirror_mode": {
    "name": "ipython",
    "version": 3
   },
   "file_extension": ".py",
   "mimetype": "text/x-python",
   "name": "python",
   "nbconvert_exporter": "python",
   "pygments_lexer": "ipython3",
   "version": "3.8.3"
  }
 },
 "nbformat": 4,
 "nbformat_minor": 4
}
